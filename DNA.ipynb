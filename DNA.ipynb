{
 "cells": [
  {
   "cell_type": "code",
   "execution_count": null,
   "metadata": {
    "collapsed": true
   },
   "outputs": [],
   "source": [
    "'''\n",
    "All the former DNA code from notebook 16-Adapting biomass coefficients to fit experimental data\n",
    "\n",
    "#Parse the fasta file\n",
    "os.chdir('/home/jean-christophe/Documents/Maitrise_UCSD/GenBank_files/')\n",
    "genome = SeqIO.read('Mflorum_DNA.fasta','fasta')\n",
    "\n",
    "#Get the number of each letter in the genome\n",
    "base_genome = {'A':0,'T':0,'C':0,'G':0}\n",
    "for element in genome:\n",
    "    value = base_genome.get(element)\n",
    "    new_value = value + 1\n",
    "    base_genome[element] = new_value    \n",
    "    \n",
    "#Get the ratios for each letter in the genome\n",
    "bases = ['A','T','C','G']\n",
    "ratio_genome = {'A':0,'T':0,'C':0,'G':0}\n",
    "\n",
    "for letter in bases:\n",
    "    number_of_base = float(base_genome.get(letter))\n",
    "    total = float(len(genome))\n",
    "    ratio = number_of_base/total\n",
    "    ratio_genome[letter]=ratio\n",
    "    \n",
    "    \n",
    "#Transform the ratios into mmol/gDW\n",
    "DNA_RATIO = 0.0839\n",
    "DNA_WEIGHT = CELL_WEIGHT*DNA_RATIO\n",
    "\n",
    "base_to_bigg = {'A':Mflorum.metabolites.datp_c,'T':Mflorum.metabolites.dttp_c,\n",
    "                'C':Mflorum.metabolites.dctp_c,'G':Mflorum.metabolites.dgtp_c}\n",
    "DNA_biomass_ratios = {'A':0,'T':0,'C':0,'G':0}\n",
    "#Get the total weight of each letter\n",
    "for letter in bases:\n",
    "    ratio = ratio_genome.get(letter)\n",
    "    total_weight = ratio*DNA_WEIGHT\n",
    "    metab = base_to_bigg.get(letter)\n",
    "    mol_weight = metab.formula_weight\n",
    "    mmols_per_cell = (total_weight/mol_weight)*1000\n",
    "    mmols_per_gDW = mmols_per_cell/CELL_WEIGHT\n",
    "    DNA_biomass_ratios[letter] = mmols_per_gDW\n",
    "    \n",
    "    \n",
    "#Change the ratios based on their appearance in the reactants and products of biomass eq\n",
    "\n",
    "Algorythm should go like this:\n",
    "1- Remove the metabolites from the BIOMASS equation\n",
    "2- Add them with the new coefficients\n",
    "\n",
    "#1- Remove the metabolites from the BIOMASS equation\n",
    "remove_DNA_metab = {Mflorum.metabolites.datp_c:1.,Mflorum.metabolites.dttp_c:1.,\n",
    "                    Mflorum.metabolites.dctp_c:1.,Mflorum.metabolites.dgtp_c:1.}\n",
    "Mflorum.reactions.BIOMASS.add_metabolites(remove_DNA_metab)\n",
    "Mflorum.reactions.BIOMASS.reaction\n",
    "\n",
    "'''"
   ]
  },
  {
   "cell_type": "code",
   "execution_count": 19,
   "metadata": {
    "collapsed": true
   },
   "outputs": [],
   "source": [
    "'''\n",
    "A class contains objects and methods\n",
    "Objects and methods are defined within the class.\n",
    "Objects and methods can be referenced outside the class\n",
    "'''\n",
    "class dummy:\n",
    "    element = 'stuff'  \n",
    "    def printhello(element):\n",
    "        print(element)"
   ]
  },
  {
   "cell_type": "code",
   "execution_count": 20,
   "metadata": {},
   "outputs": [
    {
     "name": "stdout",
     "output_type": "stream",
     "text": [
      "stuff\n"
     ]
    }
   ],
   "source": [
    "i = dummy.element\n",
    "dummy.printhello(i)"
   ]
  },
  {
   "cell_type": "code",
   "execution_count": 31,
   "metadata": {
    "collapsed": true
   },
   "outputs": [],
   "source": [
    "#Figure out inheritance\n",
    "class sub_dummy(dummy):\n",
    "    new_element = 'new_stuff'\n",
    "    def sub_print(new_element):\n",
    "        dummy.printhello(new_element)"
   ]
  },
  {
   "cell_type": "code",
   "execution_count": 33,
   "metadata": {
    "collapsed": true
   },
   "outputs": [],
   "source": [
    "class dumb_dummy():\n",
    "    dumb_element = 'dumb_stuff'\n",
    "    def dumb_print(dumb_element):\n",
    "        dummy.printhello(dumb_element)"
   ]
  },
  {
   "cell_type": "code",
   "execution_count": 34,
   "metadata": {},
   "outputs": [
    {
     "name": "stdout",
     "output_type": "stream",
     "text": [
      "stuff\n"
     ]
    }
   ],
   "source": [
    "dumb_dummy.dumb_print(i)"
   ]
  },
  {
   "cell_type": "markdown",
   "metadata": {},
   "source": [
    "## Architecture of the package for DNA\n",
    "\n",
    "### Objects\n",
    "1- The DNA bases, a list of characters called bases\n",
    "2- \n",
    "\n",
    "### Methods\n",
    "1- Import the genome from fasta file: import_genome\n",
    "2- Get the number of each base in the genome\n",
    "3- Get the ratio of each base in the genome\n",
    "4- "
   ]
  },
  {
   "cell_type": "code",
   "execution_count": 59,
   "metadata": {
    "collapsed": true
   },
   "outputs": [],
   "source": [
    "'''\n",
    "User should provide:\n",
    "- A path to the fasta file of the genome\n",
    "- The total dry cell weight\n",
    "- The fraction of DNA in the cell\n",
    "\n",
    "'''\n",
    "class DNA():\n",
    "    #Mandatory imports\n",
    "    import cobra\n",
    "    #from biomass import Update\n",
    "    \n",
    "    #Objects\n",
    "    #none so far\n",
    "    \n",
    "    #Methods\n",
    "    def get_coefficients(path_to_fasta,path_to_model,CELL_WEIGHT = 9.7, DNA_RATIO = 0.0839):\n",
    "        BASES = ['A','T','C','G']\n",
    "        #Imports the genome as a fasta file\n",
    "        #PATH provided by user\n",
    "        def import_genome(fasta):\n",
    "            from Bio import SeqIO\n",
    "            genome = SeqIO.read(fasta, 'fasta')\n",
    "            return genome\n",
    "        \n",
    "        #Imports the model\n",
    "        #PATH provided by user\n",
    "        #Checks for format\n",
    "        def import_model(path_to_model):\n",
    "            #Determine format to import\n",
    "            model_format = path_to_model.split('.')[-1]\n",
    "\n",
    "            #Import model 2 formats possible so far json and xml\n",
    "            if model_format == 'json':\n",
    "                model = cobra.io.load_json_model(path_to_model)\n",
    "            elif model_format == 'xml':\n",
    "                model = cobra.io.read_sbml_model(path_to_model)\n",
    "                \n",
    "            return model\n",
    "      \n",
    "        def get_number_of_bases(genome):\n",
    "            #Counts the number of each letter in the genome\n",
    "            base_genome = {'A':0,'T':0,'C':0,'G':0}\n",
    "            for element in genome:\n",
    "                value = base_genome.get(element)\n",
    "                new_value = value + 1\n",
    "                base_genome[element] = new_value \n",
    "            \n",
    "            return base_genome\n",
    "                \n",
    "        def get_ratio(base_genome,genome):\n",
    "            #Get the ratios for each letter in the genome\n",
    "            ratio_genome = {'A':0,'T':0,'C':0,'G':0}\n",
    "\n",
    "            for letter in BASES:\n",
    "                number_of_base = float(base_genome.get(letter))\n",
    "                total = float(len(genome))\n",
    "                ratio = number_of_base/total\n",
    "                ratio_genome[letter]=ratio\n",
    "                \n",
    "            return ratio_genome\n",
    "\n",
    "        def convert_to_coefficient(model,ratio_genome,CELL_WEIGHT,DNA_RATIO):\n",
    "            #Transform the ratios into mmol/gDW\n",
    "            DNA_WEIGHT = CELL_WEIGHT*DNA_RATIO\n",
    "            \n",
    "            base_to_bigg = {'A':model.metabolites.datp_c,'T':model.metabolites.dttp_c,\n",
    "                            'C':model.metabolites.dctp_c,'G':model.metabolites.dgtp_c}\n",
    "            \n",
    "            DNA_coefficients = {'A':0,'T':0,'C':0,'G':0}\n",
    "            #Calculate the biomass coefficient for each metabolite\n",
    "            for letter in BASES:\n",
    "                ratio = ratio_genome.get(letter)\n",
    "                total_weight = ratio*DNA_WEIGHT\n",
    "                metab = base_to_bigg.get(letter)\n",
    "                mol_weight = metab.formula_weight\n",
    "                mmols_per_cell = (total_weight/mol_weight)*1000\n",
    "                mmols_per_gDW = mmols_per_cell/CELL_WEIGHT\n",
    "                DNA_coefficients[letter] = mmols_per_gDW\n",
    "                \n",
    "            return DNA_coefficients\n",
    "        \n",
    "        #Get the biomass coefficients\n",
    "        genome = import_genome(path_to_fasta)\n",
    "        base_in_genome = get_number_of_bases(genome)\n",
    "        ratio_in_genome = get_ratio(base_in_genome,genome)\n",
    "        biomass_coefficients = convert_to_coefficient(import_model(path_to_model),ratio_in_genome,CELL_WEIGHT,DNA_RATIO)\n",
    "        return biomass_coefficients"
   ]
  },
  {
   "cell_type": "code",
   "execution_count": 60,
   "metadata": {},
   "outputs": [
    {
     "data": {
      "text/plain": [
       "{'A': 0.08967758656924092,\n",
       " 'C': 0.03519460423442598,\n",
       " 'G': 0.032048301783382235,\n",
       " 'T': 0.0917917570981278}"
      ]
     },
     "execution_count": 60,
     "metadata": {},
     "output_type": "execute_result"
    }
   ],
   "source": [
    "DNA.get_coefficients('Mflorum.fna','finalMeso.json',CELL_WEIGHT=15.,DNA_RATIO=0.12)"
   ]
  },
  {
   "cell_type": "code",
   "execution_count": null,
   "metadata": {
    "collapsed": true
   },
   "outputs": [],
   "source": [
    "class Update():\n",
    "    #Mandatory imports\n",
    "    import cobra\n",
    "    \n",
    "    #Objects\n",
    "    BASES = ['A','T','C','G']\n",
    "    \n",
    "    #Methods\n",
    "    def "
   ]
  },
  {
   "cell_type": "code",
   "execution_count": null,
   "metadata": {
    "collapsed": true
   },
   "outputs": [],
   "source": [
    "class Protein():\n",
    "    "
   ]
  },
  {
   "cell_type": "code",
   "execution_count": null,
   "metadata": {
    "collapsed": true
   },
   "outputs": [],
   "source": [
    "class RNA():\n",
    "    "
   ]
  },
  {
   "cell_type": "code",
   "execution_count": 22,
   "metadata": {},
   "outputs": [
    {
     "data": {
      "text/plain": [
       "'/Users/JC/Documents/Maitrise_UCSD/Functionnal_testing/biomass'"
      ]
     },
     "execution_count": 22,
     "metadata": {},
     "output_type": "execute_result"
    }
   ],
   "source": [
    "import cobra\n",
    "import os\n",
    "os.getcwd()"
   ]
  },
  {
   "cell_type": "code",
   "execution_count": 23,
   "metadata": {
    "collapsed": true
   },
   "outputs": [],
   "source": [
    "model = cobra.io.read_sbml_model('/Users/JC/Documents/Maitrise_UCSD/Functionnal_testing/iJO1366.xml')"
   ]
  },
  {
   "cell_type": "code",
   "execution_count": 24,
   "metadata": {
    "collapsed": true
   },
   "outputs": [],
   "source": [
    "metab = model.metabolites.datp_c"
   ]
  },
  {
   "cell_type": "code",
   "execution_count": 25,
   "metadata": {},
   "outputs": [
    {
     "data": {
      "text/plain": [
       "<Metabolite datp_c at 0x104fcc9e8>"
      ]
     },
     "execution_count": 25,
     "metadata": {},
     "output_type": "execute_result"
    }
   ],
   "source": [
    "metab"
   ]
  },
  {
   "cell_type": "code",
   "execution_count": 26,
   "metadata": {
    "collapsed": true
   },
   "outputs": [],
   "source": [
    "model.add_metabolites(metab)"
   ]
  },
  {
   "cell_type": "code",
   "execution_count": null,
   "metadata": {
    "collapsed": true
   },
   "outputs": [],
   "source": []
  }
 ],
 "metadata": {
  "kernelspec": {
   "display_name": "Python 2",
   "language": "python",
   "name": "python2"
  },
  "language_info": {
   "codemirror_mode": {
    "name": "ipython",
    "version": 2
   },
   "file_extension": ".py",
   "mimetype": "text/x-python",
   "name": "python",
   "nbconvert_exporter": "python",
   "pygments_lexer": "ipython2",
   "version": "2.7.12"
  }
 },
 "nbformat": 4,
 "nbformat_minor": 1
}
