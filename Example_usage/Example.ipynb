{
 "cells": [
  {
   "cell_type": "markdown",
   "metadata": {},
   "source": [
    "# BOFdat usage example"
   ]
  },
  {
   "cell_type": "code",
   "execution_count": 1,
   "metadata": {},
   "outputs": [],
   "source": [
    "import cobra\n",
    "import BOFdat as bd\n",
    "from cobra.util.solver import linear_reaction_coefficients"
   ]
  },
  {
   "cell_type": "markdown",
   "metadata": {},
   "source": [
    "## Generating stoichiometric coefficients for the biomass objective function of *E.coli* genome-scale model *i*ML1515\n",
    "\n",
    "The weight percentage and abundance of each molecule in the cell may vary from an organism to another and vary between growth conditions for a given organism [1,2]. BOFdat allows to incorporate macromolecular cell composition obtained from literature or new experiments to generate new stoichiometric coefficients for your model's biomass objective function (BOF). Once weight percentages are obtained, OMIC data can be incorporated to buff the coefficients and fit to experimental reality. \n",
    "\n",
    "### Steps\n",
    "\n",
    "The following example will lead you through all the necessary steps for the generation of the BOF stoichiometric coefficients (BOFsc) for *E.coli* K12 MG1655 GEM *i*ML1515 [3]. \n",
    "\n",
    "1. Obtain the macromolecular composition of the organism\n",
    "\n",
    "2. Obtain OMICs experimental data\n",
    "\n",
    "3. Generate BOFsc\n",
    "\n",
    "4. Generate NGAM and GAM\n",
    "\n",
    "5. Update BOF (BOFdat!)\n",
    "\n",
    "\n",
    "#### Sources\n",
    "\n",
    "[1]  Dennis P. Patrick and Bremmer Hans. (1974) Macromolecular composition during steady-state growth of *Escherichia coli* B/r. Journal of bacteriology\n",
    "\n",
    "\n",
    "[2] Benjamin Volkmer and Matthias Heinemann. (2011) Condition-Dependent Cell Volume and Concentration of Escherichia coli to Facilitate Data Conversion for Systems Biology Modeling. PLoS One\n",
    "\n",
    "\n",
    "[3] Jonathan M Monk, Colton J Lloyd, Elizabeth Brunk, Nathan Mih, Anand Sastry, Zachary King, Rikiya Takeuchi, Wataru Nomura, Zhen Zhang, Hirotada Mori, Adam M Feist and Bernhard O Palsson. (2017) *i*ML1515, a knowledgebase that computes Escherichia coli traits. Nat. Biotech.\n"
   ]
  },
  {
   "cell_type": "markdown",
   "metadata": {},
   "source": [
    "### 1. Obtain the macromolecular compositon of the organism\n",
    "\n",
    "*E.coli* has been characterized thoroughly in literature. The BOFsc used in *i*AF1260 [4] are the same in *i*ML1515 [3] and were obtained from Neidhart *et. al* [5].\n",
    "\n",
    "**Note:** The package also provides the option to include the percentage of each type of RNA molecule in the cell (ribosomal, transfer and messenger). The default values are rRNA: 0.9, tRNA 0.05 and mRNA: 0.05.\n",
    "\n",
    "#### Sources\n",
    "\n",
    "[4] Adam M Feist, Christopher S Henry, Jennifer L Reed, Markus Krummenacker, Andrew R Joyce, Peter D Karp, Linda J Broadbelt, Vassily Hatzimanikatis and Bernhard Ø Palsson. (2007) A genome-scale metabolic reconstruction for Escherichia coli K-12 MG1655 that accounts for 1260 ORFs and thermodynamic information. Mol. Syst. Bio. \n",
    "\n",
    "[5] Neidhardt FC, Ingraham JL, Schaechter M (1990) Physiology of the Bacterial Cell: a Molecular Approach. Sinauer Associates: Sunderland, Mass"
   ]
  },
  {
   "cell_type": "code",
   "execution_count": 3,
   "metadata": {
    "collapsed": true
   },
   "outputs": [],
   "source": [
    "#Set parameters based on dry weight composition\n",
    "DNA_RATIO = 0.031\n",
    "RNA_RATIO = 0.205\n",
    "PROTEIN_RATIO = 0.55\n",
    "LIPID_RATIO = 0.1\n",
    "METABOLITE_RATIO = 0.1"
   ]
  },
  {
   "cell_type": "markdown",
   "metadata": {},
   "source": [
    "### 2. Obtain OMICs experimental data\n",
    "\n",
    "Your genome should have a GenBank annotated file. This file should be provided in a BioPython supported format (.gb, .gbff). \n",
    "\n",
    "Search in literature allowed to find multiple OMICs dataset for different macromolecules that can be used to generate stoichiometric coefficients [6,7,8]. The data should be converted into a 2 column csv file. \n",
    "The genome file should be provided in a standard BioPython supported format (.faa or .fna) and is used to calculate the abundance of each base in the genome.\n",
    "\n",
    "Transcriptomic and proteomic files are 2 column csv files where the first column is the **gene identifier ** and the second column is the relative abundance of each of these genes in the cell. \n",
    "\n",
    "Unlike DNA, RNA and proteins that are standard amongst every known life form, the lipid and metabolites in different organisms may vary. Hence a conversion file is required. This first column of this file is the original name of the compound and the second is the target identifier that this compound should have in your model. The first column of the abundance file gives the compound identifier in the model and the second column gives the abundance of that compound in the OMIC dataset.\n",
    "\n",
    "#### Sources\n",
    "\n",
    "[6] Sang Woo Seo, Donghyuk Kim, Haythem Latif, Edward J. O’Brien, Richard Szubin & Bernhard O. Palsson. (2014) Deciphering Fur transcriptional regulatory network highlights its complex role beyond iron metabolism in Escherichia coli. Nat. Comm. \n",
    "\n",
    "\n",
    "[7] Alexander Schmidt, Karl Kochanowski, Silke Vedelaar, Erik Ahrné, Benjamin Volkmer, Luciano Callipo, Kèvin Knoops, Manuel Bauer, Ruedi Aebersold and Matthias Heinemann. (2016) The quantitative and condition-dependent *Escherichia coli* proteome. Nat. Biotech. \n",
    "\n",
    "\n",
    "[8] Kian-Kai Cheng, Baek-Seok Lee, Takeshi Masuda, Takuro Ito, Kazutaka Ikeda, Akiyoshi Hirayama, Lingli Deng, Jiyang Dong, Kazuyuki Shimizu, Tomoyoshi Soga, Masaru Tomita, Bernhard O. Palsson and Martin Robert. (2014) Global metabolic network reorganization by adaptive mutations allows fast growth of Escherichia coli on glycerol. Nat Comm."
   ]
  },
  {
   "cell_type": "code",
   "execution_count": 2,
   "metadata": {
    "collapsed": true
   },
   "outputs": [],
   "source": [
    "#Give the path to each file as function parameters\n",
    "#Genome file in BioPython supported format (.faa, .fna) and GenBank file \n",
    "#also in BioPython supported format (.gb, .gbff)\n",
    "genome = 'Ecoli_DNA.fna'\n",
    "genbank = 'Ecoli_K12_MG1655.gbff'\n",
    "\n",
    "#OMICs data as a 2 column csv file, gene and abundance\n",
    "transcriptomic = 'transcriptomic.csv'\n",
    "proteomic = 'proteomic.csv'\n",
    "\n",
    "#Lipidomic abundances and conversion to model identifier\n",
    "lipidomic_abundances = 'lipidomic_abundances.csv'\n",
    "lipidomic_conversion = 'lipidomic_conversion.csv'\n",
    "\n",
    "#Metabolomic abundances and conversion to model identifier\n",
    "metabolomic_abundances = 'metabolomic_abundances.csv'\n",
    "metabolomic_conversion = 'metabolomic_conversion.csv'\n",
    "\n",
    "#Growth data on different carbon sources, uptake and secretion rates\n",
    "maintenance = 'maintenance.csv'\n",
    "\n",
    "#The model for which the coefficients are generated\n",
    "model = 'iML1515.json'"
   ]
  },
  {
   "cell_type": "markdown",
   "metadata": {},
   "source": [
    "### 3. Generate BOFsc\n",
    "\n",
    "BOFdat operates with a single get_coefficient function for each macromolecule used. Input the parameters determined above as function parameters. Each function outputs a dictionary of metabolite and stoichiometric coefficients. The dictionary can be used to update the BOF (Step 5)."
   ]
  },
  {
   "cell_type": "code",
   "execution_count": 4,
   "metadata": {},
   "outputs": [
    {
     "data": {
      "text/plain": [
       "{<Metabolite dgtp_c at 0x7fdd5b311510>: 0.0156289555189538,\n",
       " <Metabolite dttp_c at 0x7fdd5b45c790>: 0.015942933529341244,\n",
       " <Metabolite dctp_c at 0x7fdd5b46ef90>: 0.017017910567671587,\n",
       " <Metabolite datp_c at 0x7fdd5b480bd0>: 0.015666598798418654}"
      ]
     },
     "execution_count": 4,
     "metadata": {},
     "output_type": "execute_result"
    }
   ],
   "source": [
    "dna_coefficients = bd.dna.generate_coefficients(genome,model,DNA_RATIO=DNA_RATIO)\n",
    "dna_coefficients"
   ]
  },
  {
   "cell_type": "code",
   "execution_count": 4,
   "metadata": {},
   "outputs": [
    {
     "data": {
      "text/plain": [
       "{<Metabolite atp_c at 0x7f51ee13f8d0>: 0.10057552625516057,\n",
       " <Metabolite ctp_c at 0x7f51ee461610>: 0.10639814736812817,\n",
       " <Metabolite gtp_c at 0x7f51eeb2ccd0>: 0.10975542021927623,\n",
       " <Metabolite utp_c at 0x7f51eeed8910>: 0.096724121650256692}"
      ]
     },
     "execution_count": 4,
     "metadata": {},
     "output_type": "execute_result"
    }
   ],
   "source": [
    "rna_coefficients = bd.rna.generate_coefficients(genbank,model,transcriptomic,TOTAL_RNA_RATIO=RNA_RATIO)\n",
    "rna_coefficients"
   ]
  },
  {
   "cell_type": "code",
   "execution_count": 6,
   "metadata": {},
   "outputs": [
    {
     "data": {
      "text/plain": [
       "{<Metabolite val__L_c at 0x7f7d167e7c10>: 0.37820961607292847,\n",
       " <Metabolite pro__L_c at 0x7f7d167f9590>: 0.19093368304146888,\n",
       " <Metabolite asn__L_c at 0x7f7d1680b3d0>: 0.16199805900690442,\n",
       " <Metabolite leu__L_c at 0x7f7d1680b490>: 0.3558603544762082,\n",
       " <Metabolite his__L_c at 0x7f7d168555d0>: 0.06991147575729649,\n",
       " <Metabolite ala__L_c at 0x7f7d16879910>: 0.6276129119707401,\n",
       " <Metabolite phe__L_c at 0x7f7d16879990>: 0.11219052972671172,\n",
       " <Metabolite gly_c at 0x7f7d1688c3d0>: 0.61320045352383,\n",
       " <Metabolite glu__L_c at 0x7f7d168c3590>: 0.27079315094570305,\n",
       " <Metabolite ile__L_c at 0x7f7d168c3650>: 0.25085850081740013,\n",
       " <Metabolite gln__L_c at 0x7f7d168c3c90>: 0.14182560120103263,\n",
       " <Metabolite trp__L_c at 0x7f7d1690c110>: 0.02276363689355101,\n",
       " <Metabolite lys__L_c at 0x7f7d1690c190>: 0.24077811503670757,\n",
       " <Metabolite asp__L_c at 0x7f7d1691f6d0>: 0.24701168127628387,\n",
       " <Metabolite met__L_c at 0x7f7d1691ff90>: 0.09429192762993732,\n",
       " <Metabolite tyr__L_c at 0x7f7d16956950>: 0.07972826312665328,\n",
       " <Metabolite cys__L_c at 0x7f7d16956990>: 0.03393893281661301,\n",
       " <Metabolite arg__L_c at 0x7f7d1698d450>: 0.16192911033188362,\n",
       " <Metabolite thr__L_c at 0x7f7d169d6290>: 0.259631533661123,\n",
       " <Metabolite ser__L_c at 0x7f7d169d6fd0>: 0.2517448481456931}"
      ]
     },
     "execution_count": 6,
     "metadata": {},
     "output_type": "execute_result"
    }
   ],
   "source": [
    "protein_coefficients = bd.protein.generate_coefficients(genbank,model,proteomic,PROTEIN_RATIO=PROTEIN_RATIO)\n",
    "protein_coefficients"
   ]
  },
  {
   "cell_type": "code",
   "execution_count": 7,
   "metadata": {},
   "outputs": [
    {
     "data": {
      "text/plain": [
       "{<Metabolite pg181_p at 0x7f7d18aab250>: 0.025729857721459543,\n",
       " <Metabolite pe161_p at 0x7f7d19228610>: 0.019837216236071122,\n",
       " <Metabolite pe181_p at 0x7f7d192e5390>: 0.016267794221360373,\n",
       " <Metabolite pg160_p at 0x7f7d192e5c50>: 0.029139858420168453,\n",
       " <Metabolite pg161_p at 0x7f7d19671190>: 0.017464887402836016,\n",
       " <Metabolite pe160_p at 0x7f7d19c43c90>: 0.029997961763780178}"
      ]
     },
     "execution_count": 7,
     "metadata": {},
     "output_type": "execute_result"
    }
   ],
   "source": [
    "lipid_coefficients = bd.lipid.generate_coefficients(lipidomic_abundances,lipidomic_conversion,model,LIPID_RATIO=LIPID_RATIO)\n",
    "lipid_coefficients"
   ]
  },
  {
   "cell_type": "code",
   "execution_count": 8,
   "metadata": {},
   "outputs": [
    {
     "data": {
      "text/plain": [
       "{<Metabolite sl26da_c at 0x7f7d16cadbd0>: 0.012808399301050407,\n",
       " <Metabolite itp_c at 0x7f7d16d8c850>: 0.00041573995496627943,\n",
       " <Metabolite gam6p_p at 0x7f7d16d8cc50>: 0.00017719333384964207,\n",
       " <Metabolite cit_c at 0x7f7d16d8cd50>: 0.0003010776862250421,\n",
       " <Metabolite uacgam_c at 0x7f7d16ddf650>: 0.0006438591465252383,\n",
       " <Metabolite hom__L_p at 0x7f7d16ddfb50>: 0.0005113588743691005,\n",
       " <Metabolite cbasp_c at 0x7f7d16ddfdd0>: 0.0023213259723887498,\n",
       " <Metabolite acon_C_c at 0x7f7d16de7410>: 0.00011618507507165767,\n",
       " <Metabolite nadph_c at 0x7f7d16de7510>: 0.00015987860623710302,\n",
       " <Metabolite acglu_c at 0x7f7d16de7550>: 0.00017297810144724187,\n",
       " <Metabolite quin_e at 0x7f7d16de7bd0>: 0.009396545251878996,\n",
       " <Metabolite gthrd_e at 0x7f7d16de7fd0>: 4.9916342756936374e-05,\n",
       " <Metabolite gmp_p at 0x7f7d16e732d0>: 0.0005518347557136508,\n",
       " <Metabolite gdpfuc_c at 0x7f7d16e736d0>: 0.0001353904833557593,\n",
       " <Metabolite mal__L_e at 0x7f7d16e73bd0>: 0.008524906762833118,\n",
       " <Metabolite ptrc_e at 0x7f7d16e73c90>: 0.02552912182722522,\n",
       " <Metabolite dtdp_c at 0x7f7d16f09390>: 4.6457624648766996e-05,\n",
       " <Metabolite agm_e at 0x7f7d16f09b10>: 8.910172158812213e-05,\n",
       " <Metabolite dhor__S_c at 0x7f7d17038290>: 0.0001039786878495506,\n",
       " <Metabolite ahcys_c at 0x7f7d17038a10>: 2.4769429854890113e-05,\n",
       " <Metabolite fum_e at 0x7f7d170e1310>: 0.001275354162708002,\n",
       " <Metabolite gthox_c at 0x7f7d170e13d0>: 0.01132123526356599,\n",
       " <Metabolite fad_c at 0x7f7d170e18d0>: 1.5157895194426854e-05,\n",
       " <Metabolite ump_p at 0x7f7d170e1cd0>: 0.002537591215571834,\n",
       " <Metabolite pser__L_e at 0x7f7d170e1dd0>: 6.127063846876386e-05,\n",
       " <Metabolite cdpdhdecg_c at 0x7f7d170e1e50>: 4.1235007009328286e-05,\n",
       " <Metabolite nadh_c at 0x7f7d17117710>: 0.0004242538365230192,\n",
       " <Metabolite amp_c at 0x7f7d17117750>: 6.298571998113899e-05,\n",
       " <Metabolite 15dap_e at 0x7f7d17117a90>: 0.00033209245685284394,\n",
       " <Metabolite ap4a_c at 0x7f7d17117b10>: 4.130516501091165e-06,\n",
       " <Metabolite acgam1p_e at 0x7f7d17117ed0>: 8.774933432969199e-06,\n",
       " <Metabolite dcdp_c at 0x7f7d1718a490>: 1.6221497587155903e-05,\n",
       " <Metabolite alaala_c at 0x7f7d1718a6d0>: 0.0008637629337662591,\n",
       " <Metabolite spmd_p at 0x7f7d1718a710>: 0.00024899162985959607,\n",
       " <Metabolite 2ippm_c at 0x7f7d1718abd0>: 0.00041018824161197795,\n",
       " <Metabolite udpglcur_c at 0x7f7d172b4290>: 0.00015447014369057444,\n",
       " <Metabolite succoa_c at 0x7f7d172b4810>: 0.000657967131530605,\n",
       " <Metabolite alltn_c at 0x7f7d172b48d0>: 6.257241713012255e-05,\n",
       " <Metabolite ade_p at 0x7f7d172b4a50>: 5.1327480124263126e-05,\n",
       " <Metabolite fdp_c at 0x7f7d1734b7d0>: 0.0029690506808329534,\n",
       " <Metabolite dtmp_c at 0x7f7d1734b890>: 0.0006819795904300154,\n",
       " <Metabolite akg_p at 0x7f7d1734bbd0>: 0.0005667410840988439,\n",
       " <Metabolite f6p_c at 0x7f7d173a9090>: 0.00024565706610416965,\n",
       " <Metabolite ametam_c at 0x7f7d173a90d0>: 0.00015274184536247235,\n",
       " <Metabolite pphn_c at 0x7f7d173a9110>: 0.0004744080027625772,\n",
       " <Metabolite sbt6p_c at 0x7f7d173a9a10>: 0.0004861502496109449,\n",
       " <Metabolite g6p_c at 0x7f7d173d88d0>: 0.00031501662367847984,\n",
       " <Metabolite histd_c at 0x7f7d173d8a10>: 0.00017982834484552146,\n",
       " <Metabolite orot_c at 0x7f7d173d8a50>: 0.0018310536535171658,\n",
       " <Metabolite orn_c at 0x7f7d173d8c10>: 0.00019127136195681732,\n",
       " <Metabolite 6pgc_c at 0x7f7d18371410>: 0.00019004375742114128,\n",
       " <Metabolite pyam5p_c at 0x7f7d18529510>: 4.8740564069394306e-05,\n",
       " <Metabolite ru5p__D_c at 0x7f7d18559a90>: 0.00015680892213757963,\n",
       " <Metabolite imp_e at 0x7f7d18882e50>: 2.961617535354037e-05,\n",
       " <Metabolite r5p_e at 0x7f7d18882fd0>: 5.227007708290762e-05,\n",
       " <Metabolite adphep_DD_c at 0x7f7d197190d0>: 0.00034582006443213486,\n",
       " <Metabolite g1p_c at 0x7f7d19719850>: 0.00020818250334452676,\n",
       " <Metabolite acorn_c at 0x7f7d19719890>: 0.0005493516693493955,\n",
       " <Metabolite dcmp_c at 0x7f7d19719fd0>: 2.9672500213539617e-06,\n",
       " <Metabolite s7p_c at 0x7f7d19f42890>: 0.00013628596766704712,\n",
       " <Metabolite citr__L_c at 0x7f7d1a164a10>: 0.0004043535374222176,\n",
       " <Metabolite acgam6p_c at 0x7f7d1a164c50>: 9.175010586489758e-06,\n",
       " <Metabolite pep_c at 0x7f7d1a190750>: 0.0002596597692307385,\n",
       " <Metabolite dhap_c at 0x7f7d1a190d50>: 0.0001914638328127128,\n",
       " <Metabolite 3pg_c at 0x7f7d1a363ed0>: 0.001223905423552053,\n",
       " <Metabolite dadp_c at 0x7f7d1a363f50>: 2.4755635002551314e-05,\n",
       " <Metabolite ncam_c at 0x7f7d1a878190>: 0.007883412306937449,\n",
       " <Metabolite 5mta_c at 0x7f7d1a933c10>: 0.00013976140226326693}"
      ]
     },
     "execution_count": 8,
     "metadata": {},
     "output_type": "execute_result"
    }
   ],
   "source": [
    "metab_coefficients = bd.metabolite.generate_coefficients_from_experimental_data(metabolomic_abundances,metabolomic_conversion,model)\n",
    "metab_coefficients"
   ]
  },
  {
   "cell_type": "markdown",
   "metadata": {},
   "source": [
    "### 4. Generate GAM and NGAM\n",
    "\n",
    "Growth-associated maintenance (GAM) is the ATP cost related to growth. This includes the polymerization cost of each macromolecule. This cost is unaccounted for in the BOF because the model synthesizes the building blocks of each macromolecule in sufficient quantity to reflect the cell composition but not the cost of assembling those building blocks together. The GAM can be calculated experimentally by growing the bacteria on different sources of carbon at different starting concentrations. The carbon source should be the sole source of carbon in the media and its concentration should be measured after a given time. These remaining concentrations along with the excretion products are used by the package to constrain the model and calculate the ATP cost of growth. \n",
    "\n",
    "The file format is shown in the image below:\n",
    "\n",
    "\n",
    "\n",
    "\n",
    "The carbon sources are in the first column. The second column entails \n",
    "Non growth-associated maintenance (NGAM) is the ATP cost of sustaining life without providing and "
   ]
  },
  {
   "cell_type": "code",
   "execution_count": null,
   "metadata": {},
   "outputs": [],
   "source": [
    "gam_and_ngam = bd.maintenance.experimental_maintenance(maintenance,model)"
   ]
  },
  {
   "cell_type": "markdown",
   "metadata": {},
   "source": [
    "### 5- Update BOF (BOFdat!)\n",
    "\n",
    "All the dictionaries have been generated. Now it would be fun to start playing with the model. Actually BOFdat allows you to use the generated dictionaries to update and buff your BOF experimental data. Just buff that!"
   ]
  },
  {
   "cell_type": "code",
   "execution_count": 10,
   "metadata": {
    "collapsed": true
   },
   "outputs": [],
   "source": [
    "#Let's load the model we want to update\n",
    "ecoli = cobra.io.load_json_model(model)"
   ]
  },
  {
   "cell_type": "code",
   "execution_count": 11,
   "metadata": {},
   "outputs": [
    {
     "data": {
      "text/html": [
       "\n",
       "        <table>\n",
       "            <tr>\n",
       "                <td><strong>Reaction identifier</strong></td><td>Ec_biomass_iML1515_core_75p37M</td>\n",
       "            </tr><tr>\n",
       "                <td><strong>Name</strong></td><td>E. coli biomass objective function (iML1515) - core - with 75.37 GAM estimate</td>\n",
       "            </tr><tr>\n",
       "                <td><strong>Memory address</strong></td>\n",
       "                <td>0x07f7d14eae190</td>\n",
       "            </tr><tr>\n",
       "                <td><strong>Stoichiometry</strong></td>\n",
       "                <td>\n",
       "                    <p style='text-align:right'>0.000223 10fthf_c + 2.6e-05 2fe2s_c + 0.000223 2ohph_c + 0.00026 4fe4s_c + 0.513689 ala__L_c + 0.000223 amet_c + 0.295792 arg__L_c + 0.241055 asn__L_c + 0.241055 asp__L_c + 75.55223 atp_c + 2e-06 btn_c + 0.005205 ca2_c + 0.005205 cl_c + 0.000576 coa_c + 2.5e-05 cobalt2_c + 0.133508 ctp_c + 0.000709 cu2_c + 0.09158 cys__L_c + 0.026166 datp_c + 0.027017 dctp_c + 0.027017 dgtp_c + 0.026166 dttp_c + 0.000223 fad_c + 0.006715 fe2_c + 0.007808 fe3_c + 0.26316 gln__L_c + 0.26316 glu__L_c + 0.612638 gly_c + 0.215096 gtp_c + 70.028756 h2o_c + 0.094738 his__L_c + 0.290529 ile__L_c + 0.195193 k_c + 0.019456 kdo2lipid4_e + 0.450531 leu__L_c + 0.343161 lys__L_c + 0.153686 met__L_c + 0.008675 mg2_c + 0.000223 mlthf_c + 0.000691 mn2_c + 7e-06 mobd_c + 0.013894 murein5px4p_p + 0.001831 nad_c + 0.000447 nadp_c + 0.013013 nh4_c + 0.000323 ni2_c + 0.063814 pe160_p + 0.075214 pe161_p + 0.185265 phe__L_c + 0.000223 pheme_c + 0.221055 pro__L_c + 0.000223 pydx5p_c + 0.000223 ribflv_c + 0.215792 ser__L_c + 0.000223 sheme_c + 0.004338 so4_c + 9.8e-05 succoa_c + 0.000223 thf_c + 0.000223 thmpp_c + 0.253687 thr__L_c + 0.056843 trp__L_c + 0.137896 tyr__L_c + 5.5e-05 udcpdp_c + 0.144104 utp_c + 0.423162 val__L_c + 0.000341 zn2_c --> 75.37723 adp_c + 75.37723 h_c + 75.37323 pi_c + 0.773903 ppi_c</p>\n",
       "                    <p style='text-align:right'>0.000223 10-Formyltetrahydrofolate + 2.6e-05 [2Fe-2S] iron-sulfur cluster + 0.000223 2-Octaprenyl-6-hydroxyphenol + 0.00026 [4Fe-4S] iron-sulfur cluster + 0.513689 L-Alanine + 0.000223 S-Adenosyl-L-methionine + 0.295792 L-Arginine + 0.241055 L-Asparagine + 0.241055 L-Aspartate + 75.55223 ATP + 2e-06 Biotin + 0.005205 Calcium + 0.005205 Chloride + 0.000576 Coenzyme A + 2.5e-05 Co2+ + 0.133508 CTP + 0.000709 Cu2+ + 0.09158 L-Cysteine + 0.026166 dATP + 0.027017 dCTP + 0.027017 dGTP + 0.026166 dTTP + 0.000223 Flavin adenine dinucleotide oxidized + 0.006715 Fe2+ + 0.007808 Fe3+ + 0.26316 L-Glutamine + 0.26316 L-Glutamate + 0.612638 Glycine + 0.215096 GTP + 70.028756 H2O + 0.094738 L-Histidine + 0.290529 L-Isoleucine + 0.195193 potassium + 0.019456 KDO(2)-lipid IV(A) + 0.450531 L-Leucine + 0.343161 L-Lysine + 0.153686 L-Methionine + 0.008675 magnesium + 0.000223 5,10-Methylenetetrahydrofolate + 0.000691 Mn2+ + 7e-06 Molybdate + 0.013894 two disacharide linked murein units, pentapeptide crosslinked tetrapeptide (A2pm->D-ala) (middle of chain) + 0.001831 Nicotinamide adenine dinucleotide + 0.000447 Nicotinamide adenine dinucleotide phosphate + 0.013013 Ammonium + 0.000323 nickel + 0.063814 phosphatidylethanolamine (dihexadecanoyl, n-C16:0) + 0.075214 phosphatidylethanolamine (dihexadec-9enoyl, n-C16:1) + 0.185265 L-Phenylalanine + 0.000223 Protoheme + 0.221055 L-Proline + 0.000223 Pyridoxal 5'-phosphate + 0.000223 Riboflavin + 0.215792 L-Serine + 0.000223 Siroheme + 0.004338 Sulfate + 9.8e-05 Succinyl-CoA + 0.000223 5,6,7,8-Tetrahydrofolate + 0.000223 Thiamine diphosphate + 0.253687 L-Threonine + 0.056843 L-Tryptophan + 0.137896 L-Tyrosine + 5.5e-05 Undecaprenyl diphosphate + 0.144104 UTP + 0.423162 L-Valine + 0.000341 Zinc --> 75.37723 ADP + 75.37723 H+ + 75.37323 Phosphate + 0.773903 Diphosphate</p>\n",
       "                </td>\n",
       "            </tr><tr>\n",
       "                <td><strong>GPR</strong></td><td></td>\n",
       "            </tr><tr>\n",
       "                <td><strong>Lower bound</strong></td><td>0</td>\n",
       "            </tr><tr>\n",
       "                <td><strong>Upper bound</strong></td><td>1000</td>\n",
       "            </tr>\n",
       "        </table>\n",
       "        "
      ],
      "text/plain": [
       "<Reaction Ec_biomass_iML1515_core_75p37M at 0x7f7d14eae190>"
      ]
     },
     "execution_count": 11,
     "metadata": {},
     "output_type": "execute_result"
    }
   ],
   "source": [
    "#Let's see what the BOF looks like for E.coli iML1515\n",
    "from cobra.util.solver import linear_reaction_coefficients\n",
    "linear_reaction_coefficients(ecoli).keys()[0]"
   ]
  },
  {
   "cell_type": "code",
   "execution_count": 12,
   "metadata": {},
   "outputs": [
    {
     "name": "stdout",
     "output_type": "stream",
     "text": [
      "{<Metabolite datp_c at 0x7f7d1bf10c10>: -0.015666598798418654}\n",
      "{<Metabolite dttp_c at 0x7f7d1beec7d0>: -0.015942933529341244}\n",
      "{<Metabolite dgtp_c at 0x7f7d1bda1550>: -0.0156289555189538}\n",
      "{<Metabolite dctp_c at 0x7f7d1befdfd0>: -0.017017910567671587}\n",
      "{<Metabolite atp_c at 0x7f7d1a717690>: -0.10057552625516057}\n",
      "{<Metabolite gtp_c at 0x7f7d1ac66a90>: -0.10975542021927623}\n",
      "{<Metabolite utp_c at 0x7f7d1a9646d0>: -0.096724121650256692}\n",
      "{<Metabolite ctp_c at 0x7f7d1a5cb3d0>: -0.10639814736812817}\n",
      "{<Metabolite val__L_c at 0x7f7d167e7c10>: -0.37820961607292847}\n",
      "{<Metabolite ser__L_c at 0x7f7d169d6fd0>: -0.2517448481456931}\n",
      "{<Metabolite ile__L_c at 0x7f7d168c3650>: -0.25085850081740013}\n",
      "{<Metabolite trp__L_c at 0x7f7d1690c110>: -0.02276363689355101}\n",
      "{<Metabolite cys__L_c at 0x7f7d16956990>: -0.03393893281661301}\n",
      "{<Metabolite leu__L_c at 0x7f7d1680b490>: -0.3558603544762082}\n",
      "{<Metabolite thr__L_c at 0x7f7d169d6290>: -0.259631533661123}\n",
      "{<Metabolite asp__L_c at 0x7f7d1691f6d0>: -0.24701168127628387}\n",
      "{<Metabolite his__L_c at 0x7f7d168555d0>: -0.06991147575729649}\n",
      "{<Metabolite ala__L_c at 0x7f7d16879910>: -0.6276129119707401}\n",
      "{<Metabolite gln__L_c at 0x7f7d168c3c90>: -0.14182560120103263}\n",
      "{<Metabolite met__L_c at 0x7f7d1691ff90>: -0.09429192762993732}\n",
      "{<Metabolite lys__L_c at 0x7f7d1690c190>: -0.24077811503670757}\n",
      "{<Metabolite tyr__L_c at 0x7f7d16956950>: -0.07972826312665328}\n",
      "{<Metabolite glu__L_c at 0x7f7d168c3590>: -0.27079315094570305}\n",
      "{<Metabolite phe__L_c at 0x7f7d16879990>: -0.11219052972671172}\n",
      "{<Metabolite asn__L_c at 0x7f7d1680b3d0>: -0.16199805900690442}\n",
      "{<Metabolite gly_c at 0x7f7d1688c3d0>: -0.61320045352383}\n",
      "{<Metabolite pro__L_c at 0x7f7d167f9590>: -0.19093368304146888}\n",
      "{<Metabolite arg__L_c at 0x7f7d1698d450>: -0.16192911033188362}\n",
      "{<Metabolite pe161_p at 0x7f7d19228610>: -0.019837216236071122}\n",
      "{<Metabolite pe160_p at 0x7f7d19c43c90>: -0.029997961763780178}\n",
      "{<Metabolite succoa_c at 0x7f7d172b4810>: -0.000657967131530605}\n",
      "{<Metabolite fad_c at 0x7f7d170e18d0>: -1.5157895194426854e-05}\n"
     ]
    }
   ],
   "source": [
    "bd.dna.update_biomass_coefficients(dna_coefficients,ecoli)\n",
    "bd.rna.update_biomass_coefficients(rna_coefficients,ecoli)\n",
    "bd.protein.update_biomass_coefficients(protein_coefficients,ecoli)\n",
    "bd.lipid.update_biomass_coefficients(lipid_coefficients,ecoli)\n",
    "bd.metabolite.update_biomass_coefficients(metab_coefficients,ecoli)"
   ]
  },
  {
   "cell_type": "code",
   "execution_count": 13,
   "metadata": {},
   "outputs": [
    {
     "data": {
      "text/html": [
       "\n",
       "        <table>\n",
       "            <tr>\n",
       "                <td><strong>Reaction identifier</strong></td><td>Ec_biomass_iML1515_core_75p37M</td>\n",
       "            </tr><tr>\n",
       "                <td><strong>Name</strong></td><td>E. coli biomass objective function (iML1515) - core - with 75.37 GAM estimate</td>\n",
       "            </tr><tr>\n",
       "                <td><strong>Memory address</strong></td>\n",
       "                <td>0x07f7d14eae190</td>\n",
       "            </tr><tr>\n",
       "                <td><strong>Stoichiometry</strong></td>\n",
       "                <td>\n",
       "                    <p style='text-align:right'>0.000223 10fthf_c + 2.6e-05 2fe2s_c + 0.000223 2ohph_c + 0.00026 4fe4s_c + 0.627612911971 ala__L_c + 0.000223 amet_c + 0.161929110332 arg__L_c + 0.161998059007 asn__L_c + 0.247011681276 asp__L_c + 0.100575526255 atp_c + 2e-06 btn_c + 0.005205 ca2_c + 0.005205 cl_c + 0.000576 coa_c + 2.5e-05 cobalt2_c + 0.106398147368 ctp_c + 0.000709 cu2_c + 0.0339389328166 cys__L_c + 0.0156665987984 datp_c + 0.0170179105677 dctp_c + 0.015628955519 dgtp_c + 0.0159429335293 dttp_c + 1.51578951944e-05 fad_c + 0.006715 fe2_c + 0.007808 fe3_c + 0.141825601201 gln__L_c + 0.270793150946 glu__L_c + 0.613200453524 gly_c + 0.109755420219 gtp_c + 70.028756 h2o_c + 0.0699114757573 his__L_c + 0.250858500817 ile__L_c + 0.195193 k_c + 0.019456 kdo2lipid4_e + 0.355860354476 leu__L_c + 0.240778115037 lys__L_c + 0.0942919276299 met__L_c + 0.008675 mg2_c + 0.000223 mlthf_c + 0.000691 mn2_c + 7e-06 mobd_c + 0.013894 murein5px4p_p + 0.001831 nad_c + 0.000447 nadp_c + 0.013013 nh4_c + 0.000323 ni2_c + 0.0299979617638 pe160_p + 0.0198372162361 pe161_p + 0.112190529727 phe__L_c + 0.000223 pheme_c + 0.190933683041 pro__L_c + 0.000223 pydx5p_c + 0.000223 ribflv_c + 0.251744848146 ser__L_c + 0.000223 sheme_c + 0.004338 so4_c + 0.000657967131531 succoa_c + 0.000223 thf_c + 0.000223 thmpp_c + 0.259631533661 thr__L_c + 0.0227636368936 trp__L_c + 0.0797282631267 tyr__L_c + 5.5e-05 udcpdp_c + 0.0967241216503 utp_c + 0.378209616073 val__L_c + 0.000341 zn2_c --> 75.37723 adp_c + 75.37723 h_c + 75.37323 pi_c + 0.773903 ppi_c</p>\n",
       "                    <p style='text-align:right'>0.000223 10-Formyltetrahydrofolate + 2.6e-05 [2Fe-2S] iron-sulfur cluster + 0.000223 2-Octaprenyl-6-hydroxyphenol + 0.00026 [4Fe-4S] iron-sulfur cluster + 0.627612911971 L-Alanine + 0.000223 S-Adenosyl-L-methionine + 0.161929110332 L-Arginine + 0.161998059007 L-Asparagine + 0.247011681276 L-Aspartate + 0.100575526255 ATP + 2e-06 Biotin + 0.005205 Calcium + 0.005205 Chloride + 0.000576 Coenzyme A + 2.5e-05 Co2+ + 0.106398147368 CTP + 0.000709 Cu2+ + 0.0339389328166 L-Cysteine + 0.0156665987984 dATP + 0.0170179105677 dCTP + 0.015628955519 dGTP + 0.0159429335293 dTTP + 1.51578951944e-05 Flavin adenine dinucleotide oxidized + 0.006715 Fe2+ + 0.007808 Fe3+ + 0.141825601201 L-Glutamine + 0.270793150946 L-Glutamate + 0.613200453524 Glycine + 0.109755420219 GTP + 70.028756 H2O + 0.0699114757573 L-Histidine + 0.250858500817 L-Isoleucine + 0.195193 potassium + 0.019456 KDO(2)-lipid IV(A) + 0.355860354476 L-Leucine + 0.240778115037 L-Lysine + 0.0942919276299 L-Methionine + 0.008675 magnesium + 0.000223 5,10-Methylenetetrahydrofolate + 0.000691 Mn2+ + 7e-06 Molybdate + 0.013894 two disacharide linked murein units, pentapeptide crosslinked tetrapeptide (A2pm->D-ala) (middle of chain) + 0.001831 Nicotinamide adenine dinucleotide + 0.000447 Nicotinamide adenine dinucleotide phosphate + 0.013013 Ammonium + 0.000323 nickel + 0.0299979617638 phosphatidylethanolamine (dihexadecanoyl, n-C16:0) + 0.0198372162361 phosphatidylethanolamine (dihexadec-9enoyl, n-C16:1) + 0.112190529727 L-Phenylalanine + 0.000223 Protoheme + 0.190933683041 L-Proline + 0.000223 Pyridoxal 5'-phosphate + 0.000223 Riboflavin + 0.251744848146 L-Serine + 0.000223 Siroheme + 0.004338 Sulfate + 0.000657967131531 Succinyl-CoA + 0.000223 5,6,7,8-Tetrahydrofolate + 0.000223 Thiamine diphosphate + 0.259631533661 L-Threonine + 0.0227636368936 L-Tryptophan + 0.0797282631267 L-Tyrosine + 5.5e-05 Undecaprenyl diphosphate + 0.0967241216503 UTP + 0.378209616073 L-Valine + 0.000341 Zinc --> 75.37723 ADP + 75.37723 H+ + 75.37323 Phosphate + 0.773903 Diphosphate</p>\n",
       "                </td>\n",
       "            </tr><tr>\n",
       "                <td><strong>GPR</strong></td><td></td>\n",
       "            </tr><tr>\n",
       "                <td><strong>Lower bound</strong></td><td>0</td>\n",
       "            </tr><tr>\n",
       "                <td><strong>Upper bound</strong></td><td>1000</td>\n",
       "            </tr>\n",
       "        </table>\n",
       "        "
      ],
      "text/plain": [
       "<Reaction Ec_biomass_iML1515_core_75p37M at 0x7f7d14eae190>"
      ]
     },
     "execution_count": 13,
     "metadata": {},
     "output_type": "execute_result"
    }
   ],
   "source": [
    "linear_reaction_coefficients(ecoli).keys()[0]"
   ]
  },
  {
   "cell_type": "markdown",
   "metadata": {},
   "source": [
    "# That's it!\n",
    "\n",
    "Your BOFsc have been updated in your model using BOFdat. "
   ]
  },
  {
   "cell_type": "code",
   "execution_count": 5,
   "metadata": {
    "collapsed": true
   },
   "outputs": [],
   "source": [
    "#Reload ecoli model\n",
    "ecoli = cobra.io.load_json_model(model)"
   ]
  },
  {
   "cell_type": "code",
   "execution_count": null,
   "metadata": {
    "collapsed": true
   },
   "outputs": [],
   "source": []
  }
 ],
 "metadata": {
  "kernelspec": {
   "display_name": "Python 2",
   "language": "python",
   "name": "python2"
  },
  "language_info": {
   "codemirror_mode": {
    "name": "ipython",
    "version": 2
   },
   "file_extension": ".py",
   "mimetype": "text/x-python",
   "name": "python",
   "nbconvert_exporter": "python",
   "pygments_lexer": "ipython2",
   "version": "2.7.12"
  }
 },
 "nbformat": 4,
 "nbformat_minor": 2
}
