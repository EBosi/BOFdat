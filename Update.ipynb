{
 "cells": [
  {
   "cell_type": "markdown",
   "metadata": {},
   "source": [
    "## Architecture class Update\n",
    "\n",
    "Protein, RNA and DNA are classes that generate biomass coefficients for metabolites that compose DNA, RNA and Proteins.\n",
    "These coefficients \n",
    "\n",
    "Update is a class that can be called by all of the Metabolite classes (DNA, RNA, Proteins, Lipids and eventually Metabolites). All other classes should have Update inherited."
   ]
  },
  {
   "cell_type": "code",
   "execution_count": 1,
   "metadata": {
    "collapsed": true
   },
   "outputs": [],
   "source": [
    "import cobra"
   ]
  },
  {
   "cell_type": "code",
   "execution_count": 49,
   "metadata": {},
   "outputs": [],
   "source": [
    "class Update():\n",
    "\n",
    "    '''\n",
    "    The standard input for this class is a dictionnart of metabolites and coefficients where:\n",
    "    keys = metabolites\n",
    "    values = coefficients\n",
    "    CobraPy supports easily this kind of format to update reactions.\n",
    "    Since no real standard exists in BiGG to exists to annotate the Biomass Objective Function:\n",
    "    - Either the name of the biomass objective function should be provided by the user or\n",
    "    - Default = the model takes the current objective reaction and updates it with the current metabolites\n",
    "    \n",
    "    '''\n",
    "    def update_biomass(self,dict_of_coefficients,model):\n",
    "        \n",
    "        def get_biomass_objective_function(model):\n",
    "            return model.objective.keys()[0]\n",
    "        \n",
    "        def remove_biomass_metab(dict_of_metab,biomass):\n",
    "            biomass.add_metabolites(dict_of_metab)\n",
    "            print('The actual model %s solves in %s and its biomass contains %s metabolites'\n",
    "              %(model.name,model.optimize(),len(biomass.metabolites)))\n",
    "    \n",
    "        def add_biomass_metab(dict_of_metab,biomass):\n",
    "            biomass.add_metabolites(dict_of_metab)\n",
    "            print('The actual model %s solves in %s and its biomass contains %s metabolites'\n",
    "              %(model.name,model.optimize(),len(biomass.metabolites)))\n",
    "            print(model.reactions.BIOMASS.reaction)\n",
    "        \n",
    "        def find_metabolites_in_biomass(biomass,dict_of_coefficients):\n",
    "            #1- Find metabolites in BIOMASS\n",
    "            reactants_biomass, biomass_coefficients, reactant_removal =[],[],[]\n",
    "            for k,v in dict_of_coefficients.iteritems():\n",
    "                metab = k\n",
    "                coefficient = v\n",
    "                dict_addition ={k:v}\n",
    "                for r in biomass.reactants:\n",
    "                    if metab.id == r.id:\n",
    "                        print('Found %s in biomass reaction'%(metab.id,))\n",
    "                        #Get the current coefficient for metab in biomass\n",
    "                        current_coefficient = biomass.get_coefficient(r.id)\n",
    "                        dict_removal = {r:-current_coefficient}\n",
    "                        remove_biomass_metab(dict_removal,biomass)\n",
    "                        add_biomass_metab(dict_addition,biomass)\n",
    "                    else:\n",
    "                        print('Could not find %s in biomass reactions'%(metab.id,))\n",
    "        \n",
    "        biomass = get_biomass_objective_function(model)\n",
    "        find_metabolites_in_biomass(biomass,dict_of_coefficients)\n",
    "        \n"
   ]
  },
  {
   "cell_type": "code",
   "execution_count": 50,
   "metadata": {},
   "outputs": [
    {
     "name": "stdout",
     "output_type": "stream",
     "text": [
      "Found atp_c in biomass reaction\n",
      "The actual model None solves in <Solution 0.53 at 0x7fc6b49a6490> and its biomass contains 87 metabolites\n",
      "The actual model None solves in <Solution 0.53 at 0x7fc6b412de10> and its biomass contains 88 metabolites\n",
      "10fthf_c + 12dgr180 + 5fthf_c + alatrna_c + amet_c + argtrna_c + ascb6p_c + asntrna_c + asptrna_c + 0.15 atp_c + ca2_c + cl_c + clpn_c + coa_c + cobalt2_c + crm_mf_c + ctp_c + cystrna_c + datp_c + dctp_c + dgtp_c + dttp_c + fad_c + fe3_c + fmettrna_c + glntrna_c + glutrna_c + glytrna_c + gtp_c + histrna_c + iletrna_c + k_c + leutrna_c + lipopb_c + lpail345p_c + lystrna_c + mal__L_c + mettrna_c + mg2_c + mlthf_c + mn2_c + mobd_c + na1_c + ni2_c + orn_c + pa180_c + pail345p_c + pail_c + pan4p_c + pc_c + pg_c + phetrna_c + protrna_c + ptrc_c + ribflv_c + s_c + sertrna_c + sphmyln_mf_c + spmd_c + thf_c + thmpp_c + thrtrna_c + trptrna_c + tyrtrna_c + uacgam_c + utp_c + valtrna_c + zn2_c --> glutrna(gln)_c + trnaala_c + trnaarg_c + trnaasn_c + trnaasp_c + trnacys_c + trnaglu_c + trnagly_c + trnahis_c + trnaile_c + trnaleu_c + trnalys_c + 2.0 trnamet_c + trnaphe_c + trnapro_c + trnaser_c + trnathr_c + trnatrp_c + trnatyr_c + trnaval_c\n"
     ]
    }
   ],
   "source": [
    "model = cobra.io.load_json_model('/home/jean-christophe/Documents/Maitrise_UCSD/Modelling/Mesoplasma_florum/Functionnal_testing/finalMeso1.json')\n",
    "update_bio = Update()\n",
    "dict_of_coefficients = {model.metabolites.atp_c:-0.15}\n",
    "Update.update_biomass(update_bio,dict_of_coefficients,model)"
   ]
  },
  {
   "cell_type": "code",
   "execution_count": 46,
   "metadata": {},
   "outputs": [
    {
     "data": {
      "text/plain": [
       "-1.0"
      ]
     },
     "execution_count": 46,
     "metadata": {},
     "output_type": "execute_result"
    }
   ],
   "source": [
    "model.reactions.BIOMASS.get_coefficient(model.metabolites.atp_c.id)"
   ]
  },
  {
   "cell_type": "code",
   "execution_count": null,
   "metadata": {
    "collapsed": true
   },
   "outputs": [],
   "source": []
  }
 ],
 "metadata": {
  "kernelspec": {
   "display_name": "Python 2",
   "language": "python",
   "name": "python2"
  },
  "language_info": {
   "codemirror_mode": {
    "name": "ipython",
    "version": 2
   },
   "file_extension": ".py",
   "mimetype": "text/x-python",
   "name": "python",
   "nbconvert_exporter": "python",
   "pygments_lexer": "ipython2",
   "version": "2.7.12"
  }
 },
 "nbformat": 4,
 "nbformat_minor": 1
}
