{
 "cells": [
  {
   "cell_type": "markdown",
   "metadata": {},
   "source": [
    "# BOFdat step2\n",
    "\n",
    "## Finding coenzymes and inorganic ions"
   ]
  },
  {
   "cell_type": "code",
   "execution_count": 44,
   "metadata": {},
   "outputs": [],
   "source": [
    "from BOFdat import step1\n",
    "from BOFdat import step2\n",
    "from BOFdat.util import update\n",
    "import pandas as pd"
   ]
  },
  {
   "cell_type": "markdown",
   "metadata": {},
   "source": [
    "## Example using the *E.coli* genome-scale model *i*ML1515 and the biomass objective function generate in BOFdat step1\n",
    "\n",
    "Coenzymes and inorganic ions double with the cell and should therefore be included in the biomass objective function. Finding what metabolites to add to the BOF can be a daunting task. BOFdat step2 aims to reduce this burden.\n",
    "\n",
    "### Steps\n",
    "\n",
    "1. Find coenzymes and inorganic ions\n",
    "\n",
    "2. Update biomass"
   ]
  },
  {
   "cell_type": "markdown",
   "metadata": {},
   "source": [
    "### Find coenzymes and inorganic ions\n",
    "\n",
    "The coenzymes are metabolites that are re-newed after use. The transformed co-enzyme is converted back to the original through another reaction. This definition informs about the promiscous nature of coenzymes: they are used in many reactions. Using this particularity, BOFdat finds the coenzymes in the metabolic network by identifying the number of reactions in which the each metabolite participates and selecting the most promiscous. Metabolites excluded *a priori* include those that were added in BOFdat step1 (ATP, ADP, Pi,PPi, H+, H2O).\n",
    "\n",
    "### Find inorganic ions\n",
    "\n",
    "Few experimental approaches can determine the inorganic ion composition of a cell. Hence, BOFdat defaults to a biased approach based on current knowledge to define the ionic composition of the cell. *Xavier et. al.*(2017) have studied the biomass composition of 72 published models available in the BiGG database at the time of publication. Their list of universal components is a valuable resource for the modelling community. BOFdat uses the list of inorganic ions identified in this study and compares them with the list of metabolites of the submitted reconstruction.\n",
    "\n",
    "\n",
    "These two categories are combined into one function call in BOFdat:"
   ]
  },
  {
   "cell_type": "code",
   "execution_count": 39,
   "metadata": {
    "collapsed": true
   },
   "outputs": [],
   "source": [
    "path_to_model = '/home/jean-christophe/Documents/Maitrise_UCSD/BOFdat/BOFdat/data/iML1515.json'\n",
    "json_model = cobra.io.load_json_model(path_to_model)"
   ]
  },
  {
   "cell_type": "code",
   "execution_count": 37,
   "metadata": {},
   "outputs": [
    {
     "name": "stdout",
     "output_type": "stream",
     "text": [
      "Generating list of solvable metabolites\n"
     ]
    }
   ],
   "source": [
    "bd_step2 = step2.find_coenzymes_and_ions(path_to_model)"
   ]
  },
  {
   "cell_type": "markdown",
   "metadata": {},
   "source": [
    "### Update biomass\n",
    "\n",
    "All the dictionaries have been generated. Now it would be fun to start playing with the model. Actually BOFdat allows you to use the generated dictionaries to update and buff your BOF experimental data. Just buff that!"
   ]
  },
  {
   "cell_type": "code",
   "execution_count": 41,
   "metadata": {},
   "outputs": [],
   "source": [
    "#Get the input from the previous step\n",
    "bofdat_step1 = pd.read_csv('data/bofdat_step1.csv',index_col=0)\n",
    "bd_step1 = {json_model.metabolites.get_by_id(bofdat_step1.iloc[i,0]):bofdat_step1.iloc[i,1] for i in range(len(bofdat_step1))}"
   ]
  },
  {
   "cell_type": "code",
   "execution_count": 43,
   "metadata": {},
   "outputs": [
    {
     "data": {
      "text/plain": [
       "{u'accoa_c': 0.005642748895852769,\n",
       " u'amp_c': 0.01316739344845347,\n",
       " u'coa_c': 0.005953425641794046,\n",
       " u'glu__L_c': 0.031107401339205983,\n",
       " u'glyc3p_c': 0.02672887365102175,\n",
       " u'nad_c': 0.006861921469139935,\n",
       " u'nadh_c': 0.006851496170029674,\n",
       " u'nadp_c': 0.00613934369190275,\n",
       " u'nadph_c': 0.006130997076220318,\n",
       " u'nh4_c': 0.2519868406424133,\n",
       " u'pyr_c': 0.05221412318514673}"
      ]
     },
     "execution_count": 43,
     "metadata": {},
     "output_type": "execute_result"
    }
   ],
   "source": [
    "bd_step2"
   ]
  },
  {
   "cell_type": "code",
   "execution_count": 40,
   "metadata": {
    "scrolled": true
   },
   "outputs": [
    {
     "ename": "AttributeError",
     "evalue": "'str' object has no attribute 'id'",
     "output_type": "error",
     "traceback": [
      "\u001b[0;31m---------------------------------------------------------------------------\u001b[0m",
      "\u001b[0;31mAttributeError\u001b[0m                            Traceback (most recent call last)",
      "\u001b[0;32m<ipython-input-40-c0103454ea59>\u001b[0m in \u001b[0;36m<module>\u001b[0;34m()\u001b[0m\n\u001b[0;32m----> 1\u001b[0;31m \u001b[0mupdate\u001b[0m\u001b[0;34m.\u001b[0m\u001b[0mmake_new_BOF\u001b[0m\u001b[0;34m(\u001b[0m\u001b[0mjson_model\u001b[0m\u001b[0;34m,\u001b[0m\u001b[0mFalse\u001b[0m\u001b[0;34m,\u001b[0m\u001b[0mTrue\u001b[0m\u001b[0;34m,\u001b[0m\u001b[0mbd_step1\u001b[0m\u001b[0;34m,\u001b[0m\u001b[0mbd_step2\u001b[0m\u001b[0;34m)\u001b[0m\u001b[0;34m\u001b[0m\u001b[0m\n\u001b[0m",
      "\u001b[0;32m/home/jean-christophe/.local/lib/python2.7/site-packages/BOFdat-0.2.0-py2.7.egg/BOFdat/util/update.pyc\u001b[0m in \u001b[0;36mmake_new_BOF\u001b[0;34m(model, update_model, update_NGAM, *args, **kwargs)\u001b[0m\n\u001b[1;32m    105\u001b[0m     \u001b[0mremove_keys\u001b[0m \u001b[0;34m=\u001b[0m \u001b[0;34m[\u001b[0m\u001b[0;34m]\u001b[0m\u001b[0;34m\u001b[0m\u001b[0m\n\u001b[1;32m    106\u001b[0m     \u001b[0;32mfor\u001b[0m \u001b[0mk\u001b[0m\u001b[0;34m,\u001b[0m \u001b[0mv\u001b[0m \u001b[0;32min\u001b[0m \u001b[0mbase_biomass\u001b[0m\u001b[0;34m.\u001b[0m\u001b[0miteritems\u001b[0m\u001b[0;34m(\u001b[0m\u001b[0;34m)\u001b[0m\u001b[0;34m:\u001b[0m\u001b[0;34m\u001b[0m\u001b[0m\n\u001b[0;32m--> 107\u001b[0;31m         \u001b[0;32mif\u001b[0m \u001b[0mk\u001b[0m\u001b[0;34m.\u001b[0m\u001b[0mid\u001b[0m \u001b[0;34m==\u001b[0m \u001b[0;34m'ppi_c'\u001b[0m\u001b[0;34m:\u001b[0m\u001b[0;34m\u001b[0m\u001b[0m\n\u001b[0m\u001b[1;32m    108\u001b[0m             \u001b[0mppi_coeff\u001b[0m\u001b[0;34m.\u001b[0m\u001b[0mappend\u001b[0m\u001b[0;34m(\u001b[0m\u001b[0mv\u001b[0m\u001b[0;34m)\u001b[0m\u001b[0;34m\u001b[0m\u001b[0m\n\u001b[1;32m    109\u001b[0m             \u001b[0mremove_keys\u001b[0m\u001b[0;34m.\u001b[0m\u001b[0mappend\u001b[0m\u001b[0;34m(\u001b[0m\u001b[0mk\u001b[0m\u001b[0;34m)\u001b[0m\u001b[0;34m\u001b[0m\u001b[0m\n",
      "\u001b[0;31mAttributeError\u001b[0m: 'str' object has no attribute 'id'"
     ]
    }
   ],
   "source": [
    "update.make_new_BOF(json_model,False,True,bd_step1,bd_step2)"
   ]
  },
  {
   "cell_type": "code",
   "execution_count": 29,
   "metadata": {},
   "outputs": [
    {
     "data": {
      "text/plain": [
       "['ile__L_c']"
      ]
     },
     "execution_count": 29,
     "metadata": {},
     "output_type": "execute_result"
    }
   ],
   "source": [
    "bd_step2 = "
   ]
  },
  {
   "cell_type": "code",
   "execution_count": null,
   "metadata": {
    "collapsed": true
   },
   "outputs": [],
   "source": []
  }
 ],
 "metadata": {
  "kernelspec": {
   "display_name": "Python 2",
   "language": "python",
   "name": "python2"
  },
  "language_info": {
   "codemirror_mode": {
    "name": "ipython",
    "version": 2
   },
   "file_extension": ".py",
   "mimetype": "text/x-python",
   "name": "python",
   "nbconvert_exporter": "python",
   "pygments_lexer": "ipython2",
   "version": "2.7.12"
  }
 },
 "nbformat": 4,
 "nbformat_minor": 2
}
